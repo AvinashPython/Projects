{
 "cells": [
  {
   "cell_type": "code",
   "execution_count": 1,
   "metadata": {},
   "outputs": [],
   "source": [
    "import numpy as np"
   ]
  },
  {
   "cell_type": "code",
   "execution_count": 172,
   "metadata": {},
   "outputs": [
    {
     "data": {
      "text/plain": [
       "array([[7, 2, 0, 0, 0, 6, 1, 0, 0],\n",
       "       [6, 0, 0, 0, 1, 0, 0, 0, 4],\n",
       "       [8, 0, 9, 0, 0, 3, 0, 0, 5],\n",
       "       [0, 0, 0, 0, 4, 0, 0, 0, 0],\n",
       "       [0, 0, 0, 8, 5, 2, 0, 0, 7],\n",
       "       [0, 5, 0, 0, 0, 0, 0, 0, 0],\n",
       "       [0, 0, 0, 0, 0, 0, 5, 0, 3],\n",
       "       [2, 0, 0, 6, 3, 0, 4, 0, 0],\n",
       "       [0, 0, 0, 2, 0, 0, 0, 7, 9]])"
      ]
     },
     "execution_count": 172,
     "metadata": {},
     "output_type": "execute_result"
    }
   ],
   "source": [
    "# sudoku to solve\n",
    "mat_main = np.array([[7,2,0,0,0,6,1,0,0],\n",
    "       [6,0,0,0,1,0,0,0,4],\n",
    "       [8,0,9,0,0,3,0,0,5],\n",
    "       [0,0,0,0,4,0,0,0,0],\n",
    "       [0,0,0,8,5,2,0,0,7],\n",
    "       [0,5,0,0,0,0,0,0,0],\n",
    "       [0,0,0,0,0,0,5,0,3],\n",
    "       [2,0,0,6,3,0,4,0,0],\n",
    "       [0,0,0,2,0,0,0,7,9]])\n",
    "mat_main"
   ]
  },
  {
   "cell_type": "code",
   "execution_count": 148,
   "metadata": {},
   "outputs": [],
   "source": [
    "def check(n,i,j,mat):\n",
    "    # function to check if a placement of a number is valid or not\n",
    "    if n in mat[i] or n in mat[:,j] or n in mat[(i//3)*3:(3+(i//3)*3), (j//3)*3:(3+(j//3)*3)]:\n",
    "        return False\n",
    "    return True"
   ]
  },
  {
   "cell_type": "code",
   "execution_count": 149,
   "metadata": {},
   "outputs": [],
   "source": [
    "def check_matrix(n, row, col, mat):\n",
    "    check_col=[]\n",
    "    check_row=[]\n",
    "    check_box=[]\n",
    "    for i in range(9):\n",
    "        if mat[i][col]!=0:\n",
    "            continue\n",
    "        \n",
    "        if check(n,i,col,mat):\n",
    "            check_col.append(i)\n",
    "    if len(check_col)==1:\n",
    "        mat[check_col[0]][col]=n\n",
    "    \n",
    "    for j in range(9):\n",
    "        if mat[row][j]!=0:\n",
    "            continue\n",
    "        \n",
    "        if check(n,row,j,mat):\n",
    "            check_row.append(j)\n",
    "    if len(check_row)==1:\n",
    "        mat[row][check_row[0]]=n\n",
    "            \n",
    "    for i in range((row//3)*3, 3+(row//3)*3):\n",
    "        for j in range((col//3)*3, 3+(col//3)*3):\n",
    "            if mat[i][j]!=0:\n",
    "                continue\n",
    "            \n",
    "            if check(n,i,j,mat):\n",
    "                check_box.append((i,j))\n",
    "    if len(check_box)==1:\n",
    "        mat[check_box[0][0]][check_box[0][1]]=n\n",
    "        \n",
    "    return mat\n",
    "                \n",
    "                "
   ]
  },
  {
   "cell_type": "code",
   "execution_count": 151,
   "metadata": {},
   "outputs": [
    {
     "data": {
      "text/plain": [
       "array([[7, 2, 4, 5, 9, 6, 1, 3, 8],\n",
       "       [6, 3, 5, 7, 1, 8, 2, 9, 4],\n",
       "       [8, 1, 9, 4, 2, 3, 7, 6, 5],\n",
       "       [3, 7, 2, 1, 4, 9, 8, 5, 6],\n",
       "       [9, 6, 1, 8, 5, 2, 3, 4, 7],\n",
       "       [4, 5, 8, 3, 6, 7, 9, 1, 2],\n",
       "       [1, 8, 6, 9, 7, 4, 5, 2, 3],\n",
       "       [2, 9, 7, 6, 3, 5, 4, 8, 1],\n",
       "       [5, 4, 3, 2, 8, 1, 6, 7, 9]])"
      ]
     },
     "execution_count": 151,
     "metadata": {},
     "output_type": "execute_result"
    }
   ],
   "source": [
    "# main solver\n",
    "for i in range(9):\n",
    "    for j in range(9):\n",
    "        for n in range(9):\n",
    "            mat_main = check_matrix(n+1,i,j, mat_main)\n",
    "mat_main\n",
    "\n",
    "# Run twice for a complex sudoku."
   ]
  },
  {
   "cell_type": "code",
   "execution_count": 152,
   "metadata": {},
   "outputs": [
    {
     "name": "stdout",
     "output_type": "stream",
     "text": [
      "45 45\n",
      "45 45\n",
      "45 45\n",
      "45 45\n",
      "45 45\n",
      "45 45\n",
      "45 45\n",
      "45 45\n",
      "45 45\n"
     ]
    }
   ],
   "source": [
    "# checking if the solution is right\n",
    "for i in range(9):\n",
    "    print(np.sum(mat_main[i]), np.sum(mat_main[:,i]))"
   ]
  },
  {
   "cell_type": "markdown",
   "metadata": {},
   "source": [
    "### Using Backtracking"
   ]
  },
  {
   "cell_type": "markdown",
   "metadata": {},
   "source": []
  },
  {
   "cell_type": "code",
   "execution_count": 173,
   "metadata": {},
   "outputs": [],
   "source": [
    "def sudoku_trial(row, col, mat):\n",
    "    \n",
    "    if row==9:\n",
    "        return True\n",
    "    elif col == 9:\n",
    "        row=row+1\n",
    "        col=0\n",
    "        return sudoku_trial(row,col,mat)\n",
    "                \n",
    "    if mat[row][col]!=0:\n",
    "        return sudoku_trial(row,col+1,mat)\n",
    "        \n",
    "    for n in range(1,10):\n",
    "        if check(n,row,col,mat):\n",
    "            mat[row][col]=n\n",
    "            if sudoku_trial(row,col+1,mat):\n",
    "                return True\n",
    "        mat[row][col]=0\n",
    "        \n",
    "    return False           "
   ]
  },
  {
   "cell_type": "code",
   "execution_count": 174,
   "metadata": {
    "scrolled": true
   },
   "outputs": [
    {
     "data": {
      "text/plain": [
       "array([[7, 2, 4, 5, 9, 6, 1, 3, 8],\n",
       "       [6, 3, 5, 7, 1, 8, 2, 9, 4],\n",
       "       [8, 1, 9, 4, 2, 3, 7, 6, 5],\n",
       "       [3, 7, 2, 1, 4, 9, 8, 5, 6],\n",
       "       [9, 6, 1, 8, 5, 2, 3, 4, 7],\n",
       "       [4, 5, 8, 3, 6, 7, 9, 1, 2],\n",
       "       [1, 8, 6, 9, 7, 4, 5, 2, 3],\n",
       "       [2, 9, 7, 6, 3, 5, 4, 8, 1],\n",
       "       [5, 4, 3, 2, 8, 1, 6, 7, 9]])"
      ]
     },
     "execution_count": 174,
     "metadata": {},
     "output_type": "execute_result"
    }
   ],
   "source": [
    "sudoku_trial(0,0,mat_main)\n",
    "mat_main"
   ]
  },
  {
   "cell_type": "code",
   "execution_count": 166,
   "metadata": {},
   "outputs": [
    {
     "name": "stdout",
     "output_type": "stream",
     "text": [
      "45 45\n",
      "45 45\n",
      "45 45\n",
      "45 45\n",
      "45 45\n",
      "45 45\n",
      "45 45\n",
      "45 45\n",
      "45 45\n"
     ]
    }
   ],
   "source": [
    "# checking if the solution is right\n",
    "for i in range(9):\n",
    "    print(np.sum(mat_main[i]), np.sum(mat_main[:,i]))"
   ]
  },
  {
   "cell_type": "code",
   "execution_count": null,
   "metadata": {},
   "outputs": [],
   "source": [
    "def sudoku(row, col, mat):\n",
    "    global memory\n",
    "    if row==9:\n",
    "        return True\n",
    "    elif col == 9:\n",
    "        row=row+1\n",
    "        col=0\n",
    "               \n",
    "    if mat[row][col]!=0:\n",
    "        return sudoku(row,col+1,mat)\n",
    "        \n",
    "    else:\n",
    "        for n in range(1,10):\n",
    "            ans = check(n,row, col,mat)\n",
    "            if ans==0:\n",
    "                mat[row][col]=n\n",
    "                \n",
    "                memory.append([row,col,n])\n",
    "                print(memory)\n",
    "                sudoku(row,col+1,mat)\n",
    "                \n",
    "        for i,j,k in reversed(memory):\n",
    "            if k==9:\n",
    "                mat[i][j]=0\n",
    "                memory = memory[:-1]\n",
    "            else:\n",
    "                ans =  check(k+1,i,j,mat)\n",
    "                if ans==0:\n",
    "                    mat[i][j]=k+1\n",
    "                    memory = memory[:-1]\n",
    "                    memory.append([i,j,k+1])\n",
    "                    sudoku(i,j+1,mat)\n",
    "                elif ans!=0 & k==8:\n",
    "                    mat[i][j]=0\n",
    "                    memory = memory[:-1]\n",
    "                    continue\n",
    "                else:\n",
    "                    while(k<8):\n",
    "                        k = k+1\n",
    "                        ans = check(k+1,i,j,mat)\n",
    "                        if ans ==0:\n",
    "                            mat[i][j]=k+1\n",
    "                            memory = memory[:-1]\n",
    "                            memory.append([i,j,k+1])\n",
    "                            sudoku(i,j+1,mat)\n",
    "            \n",
    "    #return('solution not possible')\n",
    "    "
   ]
  }
 ],
 "metadata": {
  "kernelspec": {
   "display_name": "Python 3",
   "language": "python",
   "name": "python3"
  },
  "language_info": {
   "codemirror_mode": {
    "name": "ipython",
    "version": 3
   },
   "file_extension": ".py",
   "mimetype": "text/x-python",
   "name": "python",
   "nbconvert_exporter": "python",
   "pygments_lexer": "ipython3",
   "version": "3.7.5"
  }
 },
 "nbformat": 4,
 "nbformat_minor": 2
}
